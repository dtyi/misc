{
 "cells": [
  {
   "cell_type": "code",
   "execution_count": 27,
   "metadata": {},
   "outputs": [],
   "source": [
    "from fractions import Fraction\n",
    "from numbers import Number\n",
    "import operator as opr\n",
    "from collections import defaultdict\n",
    "import matplotlib.pyplot as plt\n",
    "\n",
    "\n",
    "class Dist(dict):\n",
    "    ZERO = {0:1}\n",
    "    \n",
    "    def __missing__(self,key):\n",
    "        return 0\n",
    "            \n",
    "    def __add__(self, other):\n",
    "        if isinstance(other,Number):\n",
    "            other = {other:1}\n",
    "        new = Dist()\n",
    "        for k1,v1 in self.items():\n",
    "            for k2,v2 in other.items():\n",
    "                #new.setdefault(k1+k2,0)\n",
    "                new[k1+k2]+=v1*v2\n",
    "        return new\n",
    "    \n",
    "    __radd__ = __add__\n",
    "    \n",
    "    def __neg__(self):\n",
    "        new = Dist()\n",
    "        for k1,v1 in self.items():\n",
    "            new[-k1]=v1\n",
    "        return new\n",
    "    \n",
    "    def __sub__(self,other):\n",
    "        return self+ (-other)\n",
    "    \n",
    "    def __rmul__(self,other):\n",
    "        \"\"\"Left-sided multiply: number of summed rolls e.g. 8d6\"\"\"\n",
    "        if not isinstance(other,int):\n",
    "            raise TypeError(\"multiply dice with integers only please.\")\n",
    "        new = self.ZERO\n",
    "        for i in range(other):\n",
    "            new = new+self\n",
    "        return new\n",
    "    \n",
    "    def __mul__(self,other):\n",
    "        \"\"\"Right-sided multiply: chance of happening at all e.g. d(6)*.65\"\"\"\n",
    "        new = Dist()\n",
    "        new[0]=(1-other)\n",
    "        for k1,v1 in self.items():\n",
    "            new[k1] = v1*other\n",
    "        return new\n",
    "    \n",
    "    def _compare(self,other,operator):\n",
    "        new = Dist()\n",
    "        for k1,v1 in self.items():\n",
    "            if operator(k1, other):\n",
    "                new[k1] = v1\n",
    "        return new\n",
    "        \n",
    "    #def __ge__(self,other):\n",
    "    #    new = Dist()\n",
    "    #    for k1,v1 in self.items():\n",
    "    #        if k1 >= other:\n",
    "    #            new[k1] = v1\n",
    "    #    return new\n",
    "    \n",
    "    # Implement numpy-style vectorized comparisons\n",
    "    def __lt__(self,other):\n",
    "        return self._compare(other,opr.lt)\n",
    "    def __le__(self,other):\n",
    "        return self._compare(other,opr.le)\n",
    "    # unfortunately unlike numpy I'd like these to be hashable,\n",
    "    # so I'm sacrificing (one-to-many) elementwise comparison\n",
    "    #def __eq__(self,other):\n",
    "    #    return self._compare(other,opr.eq)\n",
    "    def __ne__(self,other):\n",
    "        return self._compare(other,opr.ne)\n",
    "    def __ge__(self,other):\n",
    "        return self._compare(other,opr.ge)\n",
    "    def __gt__(self,other):\n",
    "        return self._compare(other,opr.gt)\n",
    "    \n",
    "    def __key(self):\n",
    "        return tuple(sorted(self.items()))\n",
    "\n",
    "    def __hash__(self):\n",
    "        return hash(self.__key())\n",
    "\n",
    "    def __eq__(self, other):\n",
    "        if isinstance(other, Dist):\n",
    "            return self.__key() == other.__key()\n",
    "        return NotImplemented\n",
    "    \n",
    "    def plot(self,*args,**kwargs):\n",
    "        plt.plot(self.keys(),self.values(),*args,**kwargs)\n",
    "    \n",
    "    @property\n",
    "    def mean(self):\n",
    "        return sum([k*v for k,v in self.items()])\n",
    "    @property\n",
    "    def advantage(self):\n",
    "        new = Dist()\n",
    "        cumsum = 0\n",
    "        # items() behaves like a list of (value,prob) tuples;\n",
    "        # tuples and other collections are sorted lexicographically\n",
    "        # https://docs.python.org/3/reference/expressions.html#value-comparisons\n",
    "        for x,px in sorted(self.items()):\n",
    "            new[x] = px**2+2*px*cumsum\n",
    "            cumsum += px\n",
    "\n",
    "        assert(cumsum==1)\n",
    "        return new\n",
    "    \n",
    "    @property\n",
    "    def disadvantage(self):\n",
    "        new = Dist()\n",
    "        cumsum = 0\n",
    "        for x,px in reversed(sorted(self.items())):\n",
    "            new[x] = px**2+2*px*cumsum\n",
    "            cumsum += px\n",
    "\n",
    "        assert(cumsum==1)\n",
    "        return new\n",
    "    \n",
    "        \n",
    "def d(n):\n",
    "    new = Dist()\n",
    "    for i in range(1,n+1):\n",
    "        new[i]=Fraction(1,n)\n",
    "    return new\n",
    "def advd(n):\n",
    "    new = Dist()\n",
    "    for i in range(1,n+1):\n",
    "        new[i]=Fraction(2*i-1,n**2)\n",
    "    return new\n",
    "def disd(n):\n",
    "    new = Dist()\n",
    "    for i in range(1,n+1):\n",
    "        new[i]=Fraction(41-2*i,n**2)\n",
    "    return new"
   ]
  },
  {
   "cell_type": "code",
   "execution_count": 28,
   "metadata": {},
   "outputs": [],
   "source": [
    "def psuccess(DC,bonus,roll=d):\n",
    "    return sum(((roll(20)+bonus)>=DC).values())\n",
    "def pfail(DC,bonus,roll=d):\n",
    "    return sum(((roll(20)+bonus)<DC).values())"
   ]
  },
  {
   "cell_type": "code",
   "execution_count": 29,
   "metadata": {},
   "outputs": [],
   "source": [
    "def hit(dice,flat,AC,bonus,roll=d,critmin=20):\n",
    "    \"\"\"It turns out the math for hitting a target\n",
    "    and calculating crit results is complicated.\n",
    "    Here we calculate crits (double the dice) and\n",
    "    regular hits separately.\"\"\"\n",
    "    ret = Dist()\n",
    "    \n",
    "    # add the crit damage * chance of crit\n",
    "    # Chance of crit: d20>=critmin\n",
    "    critchance = sum((roll(20)>=critmin).values())\n",
    "    for x,px in (2*dice+flat).items():\n",
    "        ret[x]+=px*critchance\n",
    "    \n",
    "    # Add the regular damage distribution * chance of regular hit\n",
    "    noncrit = roll(20)<critmin\n",
    "    hitchance = sum((noncrit+bonus>=AC).values())\n",
    "    for x,px in (dice+flat).items():\n",
    "        ret[x]+=px*hitchance\n",
    "\n",
    "    ret[0]+=1-(hitchance+critchance)\n",
    "    \n",
    "    assert((1-(hitchance+critchance))==sum((noncrit+bonus<AC).values()))\n",
    "    \n",
    "    #ret[0] = 1-sum((ret>0).values())\n",
    "    return ret"
   ]
  },
  {
   "cell_type": "code",
   "execution_count": 30,
   "metadata": {},
   "outputs": [
    {
     "data": {
      "text/plain": [
       "{3: Fraction(39, 400), 2: Fraction(13, 16), 0: Fraction(9, 100)}"
      ]
     },
     "execution_count": 30,
     "metadata": {},
     "output_type": "execute_result"
    }
   ],
   "source": [
    "hit(d(1),1,14,7,roll=advd)"
   ]
  },
  {
   "cell_type": "markdown",
   "metadata": {},
   "source": [
    "We can numpy-style filter distributions for conditions!"
   ]
  },
  {
   "cell_type": "code",
   "execution_count": 5,
   "metadata": {},
   "outputs": [
    {
     "data": {
      "text/plain": [
       "{5: Fraction(1, 20),\n",
       " 6: Fraction(1, 20),\n",
       " 7: Fraction(1, 20),\n",
       " 8: Fraction(1, 20),\n",
       " 9: Fraction(1, 20),\n",
       " 10: Fraction(1, 20),\n",
       " 11: Fraction(1, 20),\n",
       " 12: Fraction(1, 20),\n",
       " 13: Fraction(1, 20),\n",
       " 14: Fraction(1, 20),\n",
       " 15: Fraction(1, 20),\n",
       " 16: Fraction(1, 20),\n",
       " 17: Fraction(1, 20),\n",
       " 18: Fraction(1, 20),\n",
       " 19: Fraction(1, 20),\n",
       " 20: Fraction(1, 20)}"
      ]
     },
     "execution_count": 5,
     "metadata": {},
     "output_type": "execute_result"
    }
   ],
   "source": [
    "d(20)>=5"
   ]
  },
  {
   "cell_type": "markdown",
   "metadata": {},
   "source": [
    "Here's a function that modifies a damage probability distribution by the probability that the target makes a save for half damage (rounded down). The example here is thunderwave, doing a nominal 2d8 damage."
   ]
  },
  {
   "cell_type": "code",
   "execution_count": 6,
   "metadata": {},
   "outputs": [
    {
     "data": {
      "image/png": "[encoded data removed]",
      "text/plain": [
       "<Figure size 432x288 with 1 Axes>"
      ]
     },
     "metadata": {},
     "output_type": "display_data"
    }
   ],
   "source": [
    "def save_half(dist,prob):\n",
    "    new = Dist(dist*(1-prob))\n",
    "    del new[0]\n",
    "    for k,v in dist.items():\n",
    "        new[k//2]+=v*prob\n",
    "    return new\n",
    "foo = save_half(2*d(8),psuccess(14,3))\n",
    "foo.plot('rx')"
   ]
  },
  {
   "cell_type": "code",
   "execution_count": 7,
   "metadata": {},
   "outputs": [
    {
     "data": {
      "image/png": "[encoded data removed]",
      "text/plain": [
       "<Figure size 432x288 with 1 Axes>"
      ]
     },
     "metadata": {},
     "output_type": "display_data"
    }
   ],
   "source": [
    "# This is what it looks like when save negates damage.\n",
    "((2*d(8))*(.65)).plot('rx')"
   ]
  },
  {
   "cell_type": "code",
   "execution_count": 7,
   "metadata": {},
   "outputs": [
    {
     "data": {
      "text/plain": [
       "[<matplotlib.lines.Line2D at 0x10f93ccf8>]"
      ]
     },
     "execution_count": 7,
     "metadata": {},
     "output_type": "execute_result"
    },
    {
     "data": {
      "image/png": "[encoded data removed]",
      "text/plain": [
       "<Figure size 432x288 with 1 Axes>"
      ]
     },
     "metadata": {},
     "output_type": "display_data"
    }
   ],
   "source": [
    "# By the way, this is what the plot method on these objects is basically doing.\n",
    "thunderwave = 2*d(8)\n",
    "plt.plot(thunderwave.keys(),thunderwave.values(),'rx')"
   ]
  },
  {
   "cell_type": "markdown",
   "metadata": {},
   "source": [
    "Alright, now it's onto the original reason for this exercise: How much damage does a spore druid do on average? Here's an example (my character) with polearm master and shillelagh to turn that +4 wisdom into an attack stat.\n",
    "\n",
    "For these purposes, we're looking at a level 5 character, for a +4 wis and +3 proficiency (+7 to hit) vs an AC of 14, which is around that of monsters at this level. The druid's spell save DC here is 15."
   ]
  },
  {
   "cell_type": "code",
   "execution_count": 9,
   "metadata": {},
   "outputs": [
    {
     "data": {
      "text/plain": [
       "19.35"
      ]
     },
     "execution_count": 9,
     "metadata": {},
     "output_type": "execute_result"
    },
    {
     "data": {
      "image/png": "[encoded data removed]",
      "text/plain": [
       "<Figure size 432x288 with 1 Axes>"
      ]
     },
     "metadata": {},
     "output_type": "display_data"
    }
   ],
   "source": [
    "spore_shillelagh =( hit(d(8)+d(6),+4,14,+7)\n",
    "    +hit(d(4)+d(6),+4,14,7)\n",
    "    #save_half(2*d(10),psuccess(15,1))+\\\n",
    "    +(2*d(4))*pfail(15,1) )\n",
    "spore_shillelagh.plot('rx')\n",
    "float(spore_shillelagh.mean())"
   ]
  },
  {
   "cell_type": "code",
   "execution_count": 12,
   "metadata": {},
   "outputs": [
    {
     "data": {
      "text/plain": [
       "(15.425, 21.725)"
      ]
     },
     "execution_count": 12,
     "metadata": {},
     "output_type": "execute_result"
    },
    {
     "data": {
      "image/png": "[encoded data removed]",
      "text/plain": [
       "<Figure size 432x288 with 1 Axes>"
      ]
     },
     "metadata": {},
     "output_type": "display_data"
    }
   ],
   "source": [
    "#assumes monster doesn't move\n",
    "spore_boom =( hit(2*d(8)+d(6),+4,14,+7)\n",
    "    +(2*d(4))*pfail(15,1) )\n",
    "#moves\n",
    "spore_boom_m =( hit(2*d(8)+d(6),+2*d(8)+4,14,+7)\n",
    "    +(2*d(4))*pfail(15,1) )\n",
    "#The 2d8 extra rider damage goes in the \"flat\" part not doubled by crits.\n",
    "spore_boom.plot(\"rx\")\n",
    "spore_boom_m.plot(\"gx\")\n",
    "float(spore_boom.mean()),float(spore_boom_m.mean())"
   ]
  },
  {
   "cell_type": "code",
   "execution_count": 17,
   "metadata": {},
   "outputs": [
    {
     "data": {
      "text/plain": [
       "19.275"
      ]
     },
     "execution_count": 17,
     "metadata": {},
     "output_type": "execute_result"
    },
    {
     "data": {
      "image/png": "[encoded data removed]",
      "text/plain": [
       "<Figure size 432x288 with 1 Axes>"
      ]
     },
     "metadata": {},
     "output_type": "display_data"
    }
   ],
   "source": [
    "# With GFB, even at a +1 int it's on par with PAM as long as\n",
    "# there's a second enemy nearby, and it leaves the bonus open!\n",
    "#GFB has a regular on-hit component\n",
    "# and a secondary component not doubled.\n",
    "spore_green =( hit(2*d(8)+d(6),d(8)+4+1,14,+7)\n",
    "    +(2*d(4))*pfail(15,1) )\n",
    "\n",
    "spore_green.plot('gx')\n",
    "float(spore_green.mean())"
   ]
  },
  {
   "cell_type": "code",
   "execution_count": 19,
   "metadata": {},
   "outputs": [
    {
     "data": {
      "text/plain": [
       "(24.9875, 21.725)"
      ]
     },
     "execution_count": 19,
     "metadata": {},
     "output_type": "execute_result"
    },
    {
     "data": {
      "image/png": "[encoded data removed]",
      "text/plain": [
       "<Figure size 432x288 with 1 Axes>"
      ]
     },
     "metadata": {},
     "output_type": "display_data"
    }
   ],
   "source": [
    "spore_boom_a = spore_boom+save_half(2*d(10),psuccess(15,-1)) #Doesn't move; takes moonbeam\n",
    "spore_boom_a.plot(\"rx\")\n",
    "spore_boom_m.plot(\"bx\") #moves, takes booming blade\n",
    "float(spore_boom_a.mean()),float(spore_boom_m.mean())"
   ]
  },
  {
   "cell_type": "markdown",
   "metadata": {},
   "source": [
    "As a side note from damage optimization, what's the average number of concentration checks that it'll take for a character to fail one? Let's assume the damage per hit is less than 22, so it'll just be a DC10 check every time.\n",
    "\n",
    "This average is going to be over a geometric distribution, so it'll just be 1/(1-x), where x is the chance of success every time."
   ]
  },
  {
   "cell_type": "markdown",
   "metadata": {},
   "source": [
    "With a -11 'bonus', the character fails the first check. Average hits taken before concentration broken: 1"
   ]
  },
  {
   "cell_type": "code",
   "execution_count": 48,
   "metadata": {},
   "outputs": [
    {
     "data": {
      "text/plain": [
       "1.0"
      ]
     },
     "execution_count": 48,
     "metadata": {},
     "output_type": "execute_result"
    }
   ],
   "source": [
    "1/(1-float(psuccess(10,-11)))"
   ]
  },
  {
   "cell_type": "markdown",
   "metadata": {},
   "source": [
    "With an ordinary low-level character's +2 to constitution (ability score 14 or 15) it doesn't look good."
   ]
  },
  {
   "cell_type": "code",
   "execution_count": 49,
   "metadata": {},
   "outputs": [
    {
     "data": {
      "text/plain": [
       "2.857142857142857"
      ]
     },
     "execution_count": 49,
     "metadata": {},
     "output_type": "execute_result"
    }
   ],
   "source": [
    "1/(1-float(psuccess(10,2)))"
   ]
  },
  {
   "cell_type": "markdown",
   "metadata": {},
   "source": [
    "Warcaster feat dramatically improves this to over 8."
   ]
  },
  {
   "cell_type": "code",
   "execution_count": 50,
   "metadata": {},
   "outputs": [
    {
     "data": {
      "text/plain": [
       "8.163265306122446"
      ]
     },
     "execution_count": 50,
     "metadata": {},
     "output_type": "execute_result"
    }
   ],
   "source": [
    "1/(1-float(psuccess(10,2,advd)))"
   ]
  },
  {
   "cell_type": "markdown",
   "metadata": {},
   "source": [
    "The resilient feat (constitution) adds a proficiency bonus, +3 at level 5, to the save. It helps a bit, but not as much."
   ]
  },
  {
   "cell_type": "code",
   "execution_count": 51,
   "metadata": {},
   "outputs": [
    {
     "data": {
      "text/plain": [
       "5.000000000000001"
      ]
     },
     "execution_count": 51,
     "metadata": {},
     "output_type": "execute_result"
    }
   ],
   "source": [
    "1/(1-float(psuccess(10,5)))"
   ]
  },
  {
   "cell_type": "markdown",
   "metadata": {},
   "source": [
    "Ok, now let's compare different options for barbarians, wielding different combinations of weapons and using frenzy for an extra attack or not. At level 5, a barbarian with...\n",
    " - A 2d6 greatsword gets two attacks.\n",
    " - With two 1d6 handaxes, we have two plus an extra bonus action off-hand attack without the strength bonus to damage\n",
    " - With two 1d8 battleaxes, using the dual wielder feat we can upgrade to two larger axes, used like above.\n",
    " - A frenzied berserker path barbarian can make an attack using their one main weapon as a bonus action."
   ]
  },
  {
   "cell_type": "code",
   "execution_count": 20,
   "metadata": {},
   "outputs": [],
   "source": [
    "gs_barb = 2*hit(2*d(6),+6,14,+7)\n",
    "handaxes_barb = 2*hit(d(6),+6,14,7)+hit(d(6),+2,14,+7)\n",
    "battleaxes_barb = 2*hit(d(8),+6,14,7)+hit(d(8),+2,14,7)\n",
    "frenzy_barb = 3*hit(2*d(6),+6,14,7)"
   ]
  },
  {
   "cell_type": "code",
   "execution_count": 21,
   "metadata": {},
   "outputs": [
    {
     "data": {
      "text/plain": [
       "{'gs': 18.9, 'handaxes': 17.675, 'battleaxes': 19.925, 'frenzy': 28.35}"
      ]
     },
     "execution_count": 21,
     "metadata": {},
     "output_type": "execute_result"
    },
    {
     "data": {
      "image/png": "[encoded data removed]",
      "text/plain": [
       "<Figure size 432x288 with 1 Axes>"
      ]
     },
     "metadata": {},
     "output_type": "display_data"
    }
   ],
   "source": [
    "gs_barb.plot('rx')\n",
    "handaxes_barb.plot('mx')\n",
    "battleaxes_barb.plot('gx')\n",
    "frenzy_barb.plot('b+')\n",
    "barbs = {\"gs\":gs_barb,\"handaxes\":handaxes_barb,\"battleaxes\":battleaxes_barb,\"frenzy\":frenzy_barb}\n",
    "\n",
    "{name:float(barb.mean()) for name,barb in barbs.items()}"
   ]
  },
  {
   "cell_type": "markdown",
   "metadata": {},
   "source": [
    "Let's do a comparison of animals summoned by conjure animals, specifically the option for 8 CR 1/4 animals."
   ]
  },
  {
   "cell_type": "code",
   "execution_count": 35,
   "metadata": {},
   "outputs": [
    {
     "data": {
      "text/plain": [
       "69.0"
      ]
     },
     "execution_count": 35,
     "metadata": {},
     "output_type": "execute_result"
    },
    {
     "data": {
      "image/png": "[encoded data removed]",
      "text/plain": [
       "<Figure size 432x288 with 1 Axes>"
      ]
     },
     "metadata": {},
     "output_type": "display_data"
    }
   ],
   "source": [
    "elks = 8*hit(3*d(6),+3,14,+5)\n",
    "elks.plot('r+',markersize=2)\n",
    "float(elks.mean())"
   ]
  },
  {
   "cell_type": "code",
   "execution_count": 36,
   "metadata": {},
   "outputs": [
    {
     "data": {
      "text/plain": [
       "34.8"
      ]
     },
     "execution_count": 36,
     "metadata": {},
     "output_type": "execute_result"
    },
    {
     "data": {
      "image/png": "[encoded data removed]",
      "text/plain": [
       "<Figure size 432x288 with 1 Axes>"
      ]
     },
     "metadata": {},
     "output_type": "display_data"
    }
   ],
   "source": [
    "giant_owls = 8*hit(2*d(6),+1,14,+3)\n",
    "giant_owls.plot('r+',markersize=2)\n",
    "float(giant_owls.mean())"
   ]
  },
  {
   "cell_type": "code",
   "execution_count": 37,
   "metadata": {},
   "outputs": [
    {
     "data": {
      "text/plain": [
       "48.56"
      ]
     },
     "execution_count": 37,
     "metadata": {},
     "output_type": "execute_result"
    },
    {
     "data": {
      "image/png": "[encoded data removed]",
      "text/plain": [
       "<Figure size 432x288 with 1 Axes>"
      ]
     },
     "metadata": {},
     "output_type": "display_data"
    }
   ],
   "source": [
    "#wolves = 8*((2*d(4)+2)*psuccess(14,4,advd))\n",
    "wolves = 8*hit(2*d(4),+2,14,+4,roll=advd)\n",
    "wolves.plot('r+',markersize=2)\n",
    "float(wolves.mean())"
   ]
  },
  {
   "cell_type": "markdown",
   "metadata": {},
   "source": [
    "Wow, it looks like the elk do really well, even without factoring in that a prone enemy gives them advantage on attacks! With the fact that the target may fall over after the first few ramming attacks, their hit probability would look more like the wolves. That's even better!"
   ]
  },
  {
   "cell_type": "code",
   "execution_count": 38,
   "metadata": {},
   "outputs": [
    {
     "data": {
      "text/plain": [
       "98.91"
      ]
     },
     "execution_count": 38,
     "metadata": {},
     "output_type": "execute_result"
    },
    {
     "data": {
      "image/png": "[encoded data removed]",
      "text/plain": [
       "<Figure size 432x288 with 1 Axes>"
      ]
     },
     "metadata": {},
     "output_type": "display_data"
    }
   ],
   "source": [
    "elks = 8*hit(3*d(6),+3,14,+5,roll=advd)\n",
    "elks.plot('r+',markersize=2)\n",
    "float(elks.mean())"
   ]
  },
  {
   "cell_type": "code",
   "execution_count": null,
   "metadata": {},
   "outputs": [],
   "source": []
  }
 ],
 "metadata": {
  "kernelspec": {
   "display_name": "Python 3",
   "language": "python",
   "name": "python3"
  },
  "language_info": {
   "codemirror_mode": {
    "name": "ipython",
    "version": 3
   },
   "file_extension": ".py",
   "mimetype": "text/x-python",
   "name": "python",
   "nbconvert_exporter": "python",
   "pygments_lexer": "ipython3",
   "version": "3.6.7"
  }
 },
 "nbformat": 4,
 "nbformat_minor": 2
}
